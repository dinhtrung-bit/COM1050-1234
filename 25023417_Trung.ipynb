{
  "nbformat": 4,
  "nbformat_minor": 0,
  "metadata": {
    "colab": {
      "provenance": []
    },
    "kernelspec": {
      "name": "python3",
      "display_name": "Python 3"
    },
    "language_info": {
      "name": "python"
    }
  },
  "cells": [
    {
      "cell_type": "markdown",
      "source": [
        "bai 1"
      ],
      "metadata": {
        "id": "lFSHqRoS7Ku0"
      }
    },
    {
      "cell_type": "code",
      "source": [
        "def count_words(sentence):\n",
        "    # Tách câu thành danh sách các từ bằng khoảng trắng\n",
        "    words = sentence.split()\n",
        "    return len(words)\n",
        "\n",
        "# Ví dụ sử dụng hàm:\n",
        "if __name__ == \"__main__\":\n",
        "    sentence = input(\"Nhập câu của bạn: \")\n",
        "    print(\"Số từ trong câu là:\", count_words(sentence))"
      ],
      "metadata": {
        "id": "pBXMoEB17LzO"
      },
      "execution_count": null,
      "outputs": []
    },
    {
      "cell_type": "markdown",
      "source": [
        "bai 2"
      ],
      "metadata": {
        "id": "qVHGrs4R7OVN"
      }
    },
    {
      "cell_type": "code",
      "source": [
        "Trường hợp 1:\n",
        "def process_data(data):\n",
        "    result = []\n",
        "    for item in data:\n",
        "        if item > 0:\n",
        "            result.append(item * 2)\n",
        "        else:\n",
        "            result.append(item / 0)\n",
        "    return result\n",
        "\n",
        "data = [1, -2, 3, 0, -5]\n",
        "print(process_data(data))\n"
      ],
      "metadata": {
        "id": "7F3oaHn17PVi"
      },
      "execution_count": null,
      "outputs": []
    },
    {
      "cell_type": "markdown",
      "source": [
        "Lỗi:\n",
        "Dòng này cố gắng chia một số cho 0, điều này sẽ gây ra lỗi ZeroDivisionError trong Python.\n",
        "\n",
        "Khi hàm process_data chạy qua phần tử -2 trong danh sách data, nó sẽ rơi vào nhánh else và thực hiện -2 / 0, gây lỗi ngay lập tức."
      ],
      "metadata": {
        "id": "-Ib-Mimu7d_u"
      }
    },
    {
      "cell_type": "markdown",
      "source": [
        "sửa lỗi:"
      ],
      "metadata": {
        "id": "xbleqv5y7jdp"
      }
    },
    {
      "cell_type": "code",
      "source": [
        "def process_data(data):\n",
        "    result = []\n",
        "    for item in data:\n",
        "        if item > 0:\n",
        "            result.append(item * 2)\n",
        "        else:\n",
        "            result.append(0)  # hoặc một giá trị mặc định khác\n",
        "    return result\n",
        "\n",
        "data = [1, -2, 3, 0, -5]\n",
        "print(process_data(data))\n"
      ],
      "metadata": {
        "colab": {
          "base_uri": "https://localhost:8080/"
        },
        "id": "NwX_CNYb7pPH",
        "outputId": "bee16dd2-b14c-4f61-94d7-a7f8df7d2b03"
      },
      "execution_count": 1,
      "outputs": [
        {
          "output_type": "stream",
          "name": "stdout",
          "text": [
            "[2, 0, 6, 0, 0]\n"
          ]
        }
      ]
    },
    {
      "cell_type": "code",
      "source": [
        "\n",
        "Trường hợp 2:\n",
        "def find_max_number(numbers):\n",
        "    max_num = 0\n",
        "    for num in numbers:\n",
        "        if num > max_num:\n",
        "            max_num = num\n",
        "    return max_num"
      ],
      "metadata": {
        "id": "-EqcCFJC73L_"
      },
      "execution_count": null,
      "outputs": []
    },
    {
      "cell_type": "markdown",
      "source": [
        "lỗi:\n",
        "Biến max_num được khởi tạo bằng 0.\n",
        "\n",
        "Vòng lặp duyệt qua từng phần tử trong numbers, cập nhật max_num nếu num > max_num.\n",
        "Vì tất cả các số đều nhỏ hơn 0, điều kiện num > max_num sẽ không bao giờ đúng.\n",
        "\n",
        "Kết quả trả về sẽ là 0, không phải là số lớn nhất trong danh sách."
      ],
      "metadata": {
        "id": "bmQdBoPA8ADB"
      }
    },
    {
      "cell_type": "code",
      "source": [
        "def find_max_number(numbers):\n",
        "    if not numbers:\n",
        "        return None  # hoặc raise ValueError(\"Empty list\")\n",
        "    max_num = numbers[0]\n",
        "    for num in numbers:\n",
        "        if num > max_num:\n",
        "            max_num = num\n",
        "    return max_num\n"
      ],
      "metadata": {
        "id": "KgNqAr3m8FJE"
      },
      "execution_count": 3,
      "outputs": []
    },
    {
      "cell_type": "code",
      "source": [
        "Trường hợp 3:\n",
        "def process_student_scores(students, subject_index):\n",
        "    results = []\n",
        "    for student in students:\n",
        "        name = student[0]\n",
        "        scores = student[1]\n",
        "        subject_score = scores[subject_index]\n",
        "\n",
        "        # Tính điểm trung bình\n",
        "        average = sum(scores) / len(scores)\n",
        "        grade = calculate_grade(average)\n",
        "\n",
        "        results.append({\n",
        "            'name': name,\n",
        "            'subject_score': subject_score,\n",
        "            'average': average,\n",
        "            'grade': grade\n",
        "        })\n",
        "    return results"
      ],
      "metadata": {
        "id": "4bhXxI058PvM"
      },
      "execution_count": null,
      "outputs": []
    },
    {
      "cell_type": "markdown",
      "source": [
        "lỗi:\n",
        "hợp lý, nhưng sẽ gây lỗi nếu không có định nghĩa hàm calculate_grade hoặc nếu subject_index vượt quá độ dài danh sách điểm của sinh viên.\n",
        "Các vấn đề tiềm ẩn\n",
        "Hàm calculate_grade chưa được định nghĩa → Gây lỗi NameError khi gọi hàm.\n",
        "\n",
        "Chỉ số subject_index không hợp lệ → Nếu subject_index lớn hơn hoặc bằng độ dài danh sách scores, sẽ gây lỗi IndexError.\n",
        "\n",
        "Không kiểm tra dữ liệu đầu vào → Nếu students không đúng định dạng [tên, danh sách điểm], có thể gây lỗi."
      ],
      "metadata": {
        "id": "-_r2mJTr8S5m"
      }
    },
    {
      "cell_type": "code",
      "source": [
        "def calculate_grade(average):\n",
        "    if average >= 8.5:\n",
        "        return 'A'\n",
        "    elif average >= 7:\n",
        "        return 'B'\n",
        "    elif average >= 5.5:\n",
        "        return 'C'\n",
        "    elif average >= 4:\n",
        "        return 'D'\n",
        "    else:\n",
        "        return 'F'\n",
        "\n",
        "def process_student_scores(students, subject_index):\n",
        "    results = []\n",
        "    for student in students:\n",
        "        name = student[0]\n",
        "        scores = student[1]\n",
        "\n",
        "        if subject_index >= len(scores):\n",
        "            subject_score = None  # hoặc xử lý lỗi tùy ý\n",
        "        else:\n",
        "            subject_score = scores[subject_index]\n",
        "\n",
        "        average = sum(scores) / len(scores)\n",
        "        grade = calculate_grade(average)\n",
        "\n",
        "        results.append({\n",
        "            'name': name,\n",
        "            'subject_score': subject_score,\n",
        "            'average': average,\n",
        "            'grade': grade\n",
        "        })\n",
        "    return results\n"
      ],
      "metadata": {
        "id": "l1UwxitX8bgd"
      },
      "execution_count": 4,
      "outputs": []
    }
  ]
}