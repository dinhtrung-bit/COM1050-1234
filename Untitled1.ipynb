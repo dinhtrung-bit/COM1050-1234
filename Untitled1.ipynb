{
  "nbformat": 4,
  "nbformat_minor": 0,
  "metadata": {
    "colab": {
      "provenance": []
    },
    "kernelspec": {
      "name": "python3",
      "display_name": "Python 3"
    },
    "language_info": {
      "name": "python"
    }
  },
  "cells": [
    {
      "cell_type": "code",
      "execution_count": null,
      "metadata": {
        "colab": {
          "base_uri": "https://localhost:8080/"
        },
        "id": "NhPAT35hVmI-",
        "outputId": "6e2399ea-f139-4b5a-91c9-ab7c02121c14"
      },
      "outputs": [
        {
          "output_type": "stream",
          "name": "stdout",
          "text": [
            "hello world\n"
          ]
        }
      ],
      "source": [
        "print(\"hello world\")"
      ]
    },
    {
      "cell_type": "markdown",
      "source": [
        "W2A2"
      ],
      "metadata": {
        "id": "2nxAkQPJXGI8"
      }
    },
    {
      "cell_type": "code",
      "source": [
        "user_name = input(\"Chao cau, cau ten gi the \")\n",
        "\n",
        "current_age_str = input(\"Song bao nhieu nam r \")\n",
        "current_age = int(current_age_str)\n",
        "\n",
        "\n",
        "age_next_year = current_age + 1\n",
        "\n",
        "print(f\"Chao cau {user_name}, nam sau la {age_next_year} nam cau song!\")"
      ],
      "metadata": {
        "id": "4Ua8ObNEWAXb",
        "colab": {
          "base_uri": "https://localhost:8080/"
        },
        "outputId": "7c84231f-a3f7-4f0b-a392-8f5f30ef4031"
      },
      "execution_count": 10,
      "outputs": [
        {
          "output_type": "stream",
          "name": "stdout",
          "text": [
            "Chao cau, cau ten gi the hehe\n",
            "Song bao nhieu nam r 12\n",
            "Chao cau hehe, nam sau la 13 nam cau song!\n"
          ]
        }
      ]
    },
    {
      "cell_type": "markdown",
      "source": [
        "W2A10"
      ],
      "metadata": {
        "id": "V_yGlpY1aIqh"
      }
    },
    {
      "cell_type": "code",
      "source": [
        "name1 = input(\"what is your name? \")\n",
        "name2 = input(\"name2 \")\n",
        "name3 = input(\"name3 \")\n",
        "print(name3 , name2 , name1)"
      ],
      "metadata": {
        "colab": {
          "base_uri": "https://localhost:8080/"
        },
        "id": "I8Kt1-q-aOGY",
        "outputId": "65deb5d9-3f6f-46ea-b0db-396f80171fa7"
      },
      "execution_count": 18,
      "outputs": [
        {
          "output_type": "stream",
          "name": "stdout",
          "text": [
            "what is your name? a\n",
            "name2 b\n",
            "name3 c\n",
            "c b a\n"
          ]
        }
      ]
    },
    {
      "cell_type": "markdown",
      "source": [
        "W2A16"
      ],
      "metadata": {
        "id": "zE4jGPcncYmC"
      }
    },
    {
      "cell_type": "code",
      "source": [
        "print(\"Spring\\nSummer\\nAutunm\\nWinter\")"
      ],
      "metadata": {
        "colab": {
          "base_uri": "https://localhost:8080/"
        },
        "id": "2b60K1l1ccv7",
        "outputId": "115c3f8b-3893-48d8-e0bf-21201667dc4b"
      },
      "execution_count": 20,
      "outputs": [
        {
          "output_type": "stream",
          "name": "stdout",
          "text": [
            "Spring\n",
            "Summer\n",
            "Autunm\n",
            "Winter\n"
          ]
        }
      ]
    },
    {
      "cell_type": "markdown",
      "source": [
        "W2A17"
      ],
      "metadata": {
        "id": "m05xNUVDc-h3"
      }
    },
    {
      "cell_type": "code",
      "source": [
        "print(\"*\\n***\\n*****\")"
      ],
      "metadata": {
        "colab": {
          "base_uri": "https://localhost:8080/"
        },
        "id": "8v6_PgfWdAby",
        "outputId": "fec2fc54-816a-459d-e8b4-36fff6ae72a7"
      },
      "execution_count": 22,
      "outputs": [
        {
          "output_type": "stream",
          "name": "stdout",
          "text": [
            "*\n",
            "***\n",
            "*****\n"
          ]
        }
      ]
    },
    {
      "cell_type": "code",
      "source": [
        "line="
      ],
      "metadata": {
        "id": "hCmxTyHLl4M0"
      },
      "execution_count": null,
      "outputs": []
    },
    {
      "cell_type": "markdown",
      "source": [
        "W2A18"
      ],
      "metadata": {
        "id": "aTvjOSb0dnE9"
      }
    },
    {
      "cell_type": "code",
      "source": [
        "print(\"### # #  ### ###\\n #  #  #  #  # \\n #  #   # #  # \\n #  #  #  #  # \\n #  ##    #  # \")"
      ],
      "metadata": {
        "colab": {
          "base_uri": "https://localhost:8080/"
        },
        "id": "eTgTofTpdw6o",
        "outputId": "ed5c2f54-9ba9-496e-da76-ccd6e29191c2"
      },
      "execution_count": 26,
      "outputs": [
        {
          "output_type": "stream",
          "name": "stdout",
          "text": [
            "### # #  ### ###\n",
            " #  #  #  #  # \n",
            " #  #   # #  # \n",
            " #  #  #  #  # \n",
            " #  ##    #  # \n"
          ]
        }
      ]
    },
    {
      "cell_type": "markdown",
      "source": [
        "W2A19"
      ],
      "metadata": {
        "id": "6Txy-LB5ekgq"
      }
    },
    {
      "cell_type": "code",
      "source": [
        "print(\"Monday\\nTuesday\\nWednesday\\nThursday\\nSaturday\\nSunday\")"
      ],
      "metadata": {
        "colab": {
          "base_uri": "https://localhost:8080/"
        },
        "id": "BW6UGnw5emoS",
        "outputId": "50640fd4-ae86-45e1-e356-9ff453151d70"
      },
      "execution_count": 28,
      "outputs": [
        {
          "output_type": "stream",
          "name": "stdout",
          "text": [
            "Monday\n",
            "Tuesday\n",
            "Wednesday\n",
            "Thursday\n",
            "Saturday\n",
            "Sunday\n"
          ]
        }
      ]
    },
    {
      "cell_type": "markdown",
      "source": [
        "W2A20"
      ],
      "metadata": {
        "id": "AdrV0lzMgJSC"
      }
    },
    {
      "cell_type": "code",
      "source": [
        "print(\"Janury\\nFebruary\\nMarch\\nApril\\nMay\\nJune\\nJuly\\nAugust\\nSeptember\")"
      ],
      "metadata": {
        "colab": {
          "base_uri": "https://localhost:8080/"
        },
        "id": "8EWt8XwOgLsu",
        "outputId": "7b18048b-1711-484b-b676-e33bf6d633b6"
      },
      "execution_count": 30,
      "outputs": [
        {
          "output_type": "stream",
          "name": "stdout",
          "text": [
            "Janury\n",
            "february\n",
            "March\n",
            "April\n",
            "May\n",
            "June\n",
            "July\n",
            "August\n",
            "September\n"
          ]
        }
      ]
    },
    {
      "cell_type": "markdown",
      "source": [
        "W2A21"
      ],
      "metadata": {
        "id": "oJbbDoNugL8K"
      }
    },
    {
      "cell_type": "code",
      "source": [
        "for i in range(10):\n",
        "  print(\"Hello world!\")"
      ],
      "metadata": {
        "colab": {
          "base_uri": "https://localhost:8080/"
        },
        "id": "P--4Hn0lgNrj",
        "outputId": "ef37d8d9-23bb-41a3-816d-699912b21b58"
      },
      "execution_count": 27,
      "outputs": [
        {
          "output_type": "stream",
          "name": "stdout",
          "text": [
            "Hello world!\n",
            "Hello world!\n",
            "Hello world!\n",
            "Hello world!\n",
            "Hello world!\n",
            "Hello world!\n",
            "Hello world!\n",
            "Hello world!\n",
            "Hello world!\n",
            "Hello world!\n"
          ]
        }
      ]
    }
  ]
}